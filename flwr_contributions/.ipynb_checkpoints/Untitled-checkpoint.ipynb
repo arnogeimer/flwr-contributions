{
 "cells": [
  {
   "cell_type": "code",
   "execution_count": null,
   "id": "f9a43ff4-4293-4792-882e-7e6c69795803",
   "metadata": {},
   "outputs": [],
   "source": []
  }
 ],
 "metadata": {
  "kernelspec": {
   "display_name": "Python 3 (ipykernel)",
   "language": "python",
   "name": "python3"
  },
  "language_info": {
   "codemirror_mode": {
    "name": "ipython",
    "version": 3
   },
   "file_extension": ".py",
   "mimetype": "text/x-python",
   "name": "python",
   "nbconvert_exporter": "python",
   "pygments_lexer": "ipython3",
   "version": "3.10.12"
  }
 },
 "nbformat": 4,
 "nbformat_minor": 5
}
